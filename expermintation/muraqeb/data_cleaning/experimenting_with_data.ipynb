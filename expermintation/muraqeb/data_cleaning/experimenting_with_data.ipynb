{
  "nbformat": 4,
  "nbformat_minor": 0,
  "metadata": {
    "colab": {
      "provenance": []
    },
    "kernelspec": {
      "name": "python3",
      "display_name": "Python 3"
    },
    "language_info": {
      "name": "python"
    }
  },
  "cells": [
    {
      "cell_type": "code",
      "source": [
        "from IPython.display import clear_output"
      ],
      "metadata": {
        "id": "ERcA3xYtyUBb"
      },
      "execution_count": null,
      "outputs": []
    },
    {
      "cell_type": "code",
      "execution_count": null,
      "metadata": {
        "id": "NMqEKsVSRfkU"
      },
      "outputs": [],
      "source": [
        "!pip install -U \"huggingface_hub[cli]\"\n",
        "clear_output()\n",
        "\n",
        "!huggingface-cli download fei213/SurveillanceVQA-589K --repo-type=dataset --local-dir /content/SurveillanceVQA\n",
        "clear_output()"
      ]
    },
    {
      "cell_type": "code",
      "source": [],
      "metadata": {
        "id": "AvyFh1mt1ggE"
      },
      "execution_count": null,
      "outputs": []
    }
  ]
}